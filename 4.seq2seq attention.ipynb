{
 "cells": [
  {
   "cell_type": "code",
   "execution_count": 1,
   "metadata": {},
   "outputs": [],
   "source": [
    "import math\n",
    "import random\n",
    "\n",
    "import numpy as np\n",
    "\n",
    "import torch\n",
    "import torch.nn as nn\n",
    "import torch.optim as optim\n",
    "import torch.nn.functional as F\n",
    "import editdistance\n",
    "from transer import Trainer\n",
    "from transer import Dataset\n",
    "#from transer import Model\n",
    "from IPython.display import clear_output\n",
    "import matplotlib.pyplot as plt\n",
    "device = torch.device('cuda' if torch.cuda.is_available() else 'cpu')"
   ]
  },
  {
   "cell_type": "code",
   "execution_count": 2,
   "metadata": {},
   "outputs": [],
   "source": [
    "dataset = Dataset('train.csv')\n",
    "words_vocab = dataset.words_vocab\n",
    "trans_vocab = dataset.trans_vocab"
   ]
  },
  {
   "cell_type": "code",
   "execution_count": 3,
   "metadata": {},
   "outputs": [],
   "source": [
    "class Model(nn.Module):\n",
    "    def __init__(self, encoder, decoder, trans_vocab_len):\n",
    "        super().__init__()\n",
    "        self.encoder = encoder\n",
    "        self.decoder = decoder\n",
    "        self.trans_vocab_len = trans_vocab_len\n",
    "        \n",
    "        \n",
    "    def forward(self, batch_words, words_lens, batch_trans_in, mask_attention = None):\n",
    "        outputs, hidden = self.encoder(batch_words)\n",
    "        #print('hidden', hidden.size())\n",
    "        logits  = []\n",
    "        if mask_attention is None:\n",
    "            for t in range(batch_trans_in.size(1)):\n",
    "                logit, hidden   = self.decoder(batch_trans_in[:,t].unsqueeze(1), hidden, outputs)\n",
    "                logits.append(logit)\n",
    "        else:\n",
    "            for t in range(batch_trans_in.size(1)):\n",
    "                logit, hidden   = self.decoder(batch_trans_in[:,t].unsqueeze(1), hidden, outputs, mask_attention)\n",
    "                logits.append(logit)\n",
    "        logits = torch.stack(logits, 1)\n",
    "        logits = logits.view(-1, self.trans_vocab_len)\n",
    "        return logits\n",
    "    \n",
    "    def generate(self, bos_idx, eos_idx, batch_words):\n",
    "        inp = [bos_idx]\n",
    "        _, hidden = self.encoder(batch_words)\n",
    "\n",
    "        for _ in range(100):\n",
    "            inp_tensor = torch.LongTensor([[inp[-1]]]).to(batch_words.device)\n",
    "            print(inp_tensor.size())\n",
    "            pred, hidden   = self.decoder(inp_tensor, hidden)\n",
    "            next_token = pred[-1].topk(1)[1].item()\n",
    "            inp.append(next_token)\n",
    "            if next_token == eos_idx:\n",
    "                break\n",
    "        return inp"
   ]
  },
  {
   "cell_type": "code",
   "execution_count": 4,
   "metadata": {},
   "outputs": [],
   "source": [
    "class GeneralAttention(nn.Module):\n",
    "    def __init__(self, hidden_size):\n",
    "        super(GeneralAttention, self).__init__()\n",
    "        \n",
    "        self.hidden_size = hidden_size\n",
    "        self.linear1 = nn.Linear(hidden_size,hidden_size, bias = False)\n",
    "        \n",
    "    def forward(self, outputs, hidden, mask = None):\n",
    "        '''\n",
    "        Inputs:\n",
    "            outputs: (batch x seq_len x hidden) - outputs of encoder\n",
    "            hidden:  (batch x hidden)           - last hidden cell of decoder\n",
    "        Outputs:\n",
    "            weights: (batch x seq_len x 1)\n",
    "            context: (batch x hidden)\n",
    "        '''\n",
    "        hidden  = hidden.unsqueeze(-1)            \n",
    "        x       = self.linear1(outputs)\n",
    "        prod    = torch.matmul(outputs, hidden)\n",
    "        if mask is not None:\n",
    "            mask    = mask.unsqueeze(-1)\n",
    "            prod.masked_fill_(1 - mask, -float('inf'))\n",
    "        weights = F.softmax(prod, dim = 1)\n",
    "        context = (weights*outputs).sum(dim = 1)\n",
    "        return weights, context"
   ]
  },
  {
   "cell_type": "code",
   "execution_count": 5,
   "metadata": {},
   "outputs": [],
   "source": [
    "class BahdanauAttention(nn.Module):\n",
    "    def __init__(self, hidden_size):\n",
    "        super(BahdanauAttention, self).__init__()\n",
    "        self.hidden_size = hidden_size\n",
    "        \n",
    "        self.linear1 = nn.Linear(2*hidden_size, hidden_size, bias = False)\n",
    "        self.linear2 = nn.Linear(hidden_size,1, bias = False)\n",
    "        \n",
    "    def forward(self, outputs, hidden, mask = None):\n",
    "        '''\n",
    "        Inputs:\n",
    "            outputs: (batch x seq_len x hidden) - outputs of encoder\n",
    "            hidden:  (batch x hidden)           - last hidden cell of decoder\n",
    "            mask:    (batch x seq_len)\n",
    "        Outputs:\n",
    "            weights: (batch x seq_len x 1)\n",
    "            context: (batch x hidden)\n",
    "        '''\n",
    "        hidden = hidden.unsqueeze(1)                           #b x 1 x h\n",
    "        hidden = hidden.repeat(1, outputs.size(1), 1)          #b x s x h\n",
    "        concat = torch.cat([outputs, hidden], dim = 2)         #b x s x 2*h\n",
    "        x   = self.linear1(concat)                             #b x s x h\n",
    "        x   = F.tanh(x)                                        #b x s x h\n",
    "        weights   = self.linear2(x)                            #b x s x 1\n",
    "        if mask is not None:\n",
    "            mask   = mask.unsqueeze(-1)                        #b x s x 1\n",
    "            weights.masked_fill_(1-mask, -float('inf'))        #b x s x 1\n",
    "        weights = F.softmax(weights, dim = 1)                  #b x s x 1\n",
    "        context = (weights*outputs).sum(dim = 1)               #b x h\n",
    "        \n",
    "        return weights, context\n",
    "        "
   ]
  },
  {
   "cell_type": "code",
   "execution_count": 6,
   "metadata": {},
   "outputs": [
    {
     "name": "stdout",
     "output_type": "stream",
     "text": [
      "torch.Size([32, 16, 1]) torch.Size([32, 64])\n"
     ]
    },
    {
     "name": "stderr",
     "output_type": "stream",
     "text": [
      "/home/raushan/anaconda3/lib/python3.6/site-packages/torch/nn/functional.py:995: UserWarning: nn.functional.tanh is deprecated. Use torch.tanh instead.\n",
      "  warnings.warn(\"nn.functional.tanh is deprecated. Use torch.tanh instead.\")\n"
     ]
    }
   ],
   "source": [
    "attention = BahdanauAttention(64)\n",
    "\n",
    "outputs = torch.rand(32,16,64)\n",
    "hidden = torch.rand(32,64)\n",
    "mask = torch.rand(32,16).type(torch.ByteTensor)\n",
    "\n",
    "weights,context = attention(outputs, hidden, mask)\n",
    "print(weights.size(), context.size())"
   ]
  },
  {
   "cell_type": "code",
   "execution_count": 7,
   "metadata": {},
   "outputs": [],
   "source": [
    "class Dotattention(nn.Module):\n",
    "    def __init__(self):\n",
    "        super(Dotattention, self).__init__()\n",
    "        \n",
    "    def forward(self, outputs, hidden, mask = None):\n",
    "        '''\n",
    "        Inputs:\n",
    "            outputs: (batch x seq_len x hidden) - outputs of encoder\n",
    "            hidden:  (batch x hidden)           - last hidden cell of decoder\n",
    "            mask:    (batch x seq_len)\n",
    "        Outputs:\n",
    "            weights: (batch x seq_len x 1)\n",
    "            context: (batch x hidden)\n",
    "        '''\n",
    "        hidden  = hidden.unsqueeze(-1)                 #b h 1   \n",
    "        prod    = torch.matmul(outputs, hidden)        #b s 1\n",
    "        if mask is not None:\n",
    "            mask    = mask.unsqueeze(-1)               #b s 1\n",
    "            prod.masked_fill_(1 - mask, -float('inf')) #b s 1\n",
    "        weights = F.softmax(prod, dim = 1)             #b s 1\n",
    "        context = (weights*outputs).sum(dim = 1)       #b h\n",
    "        return weights, context"
   ]
  },
  {
   "cell_type": "code",
   "execution_count": 8,
   "metadata": {},
   "outputs": [
    {
     "data": {
      "text/plain": [
       "'batch_words, batch_trans_in, batch_trans_out, words_lens, trans_lens = dataset.get_batch(32, sort = True)\\nencoder = Encoder(len(words_vocab), 32, 64, pad_idx = words_vocab.pad_idx)\\noutputs, _= encoder(batch_words) \\ndotattention = Dotattention()\\nhidden  = torch.rand(32,64)\\nmask = batch_words[0] != 0\\nweights, context = dotattention(outputs, hidden, mask = mask)\\nprint(weights.size(), context.size())'"
      ]
     },
     "execution_count": 8,
     "metadata": {},
     "output_type": "execute_result"
    }
   ],
   "source": [
    "\"\"\"batch_words, batch_trans_in, batch_trans_out, words_lens, trans_lens = dataset.get_batch(32, sort = True)\n",
    "encoder = Encoder(len(words_vocab), 32, 64, pad_idx = words_vocab.pad_idx)\n",
    "outputs, _= encoder(batch_words) \n",
    "dotattention = Dotattention()\n",
    "hidden  = torch.rand(32,64)\n",
    "mask = batch_words[0] != 0\n",
    "weights, context = dotattention(outputs, hidden, mask = mask)\n",
    "print(weights.size(), context.size())\"\"\""
   ]
  },
  {
   "cell_type": "code",
   "execution_count": 9,
   "metadata": {},
   "outputs": [],
   "source": [
    "class Encoder(nn.Module):\n",
    "    def __init__(self, vocab_size, emb_size, hidden_size, pad_idx):\n",
    "        super(Encoder, self).__init__()\n",
    "        \n",
    "        self.embedding = nn.Embedding(vocab_size, emb_size, padding_idx=pad_idx)\n",
    "        self.gru       = nn.GRU(emb_size, hidden_size)\n",
    "    \n",
    "    def forward(self, source, source_lens=None, hidden=None):\n",
    "        embedded = self.embedding(source)\n",
    "        embedded = embedded.transpose(0, 1)\n",
    "        \n",
    "        if source_lens is not None:\n",
    "            embedded = pack(embedded, source_lens)\n",
    "        \n",
    "        if hidden is not None:\n",
    "            outs, hidden = self.gru(embedded, hidden)\n",
    "        else:\n",
    "            outs, hidden = self.gru(embedded)\n",
    "        outs   = outs.transpose(0,1)\n",
    "        hidden = hidden.squeeze(0) \n",
    "        return outs, hidden\n",
    "    \n",
    "class Decoder(nn.Module):\n",
    "    def __init__(self, vocab_size, emb_size, hidden_size, pad_idx, attention_type = None):\n",
    "        super(Decoder, self).__init__()\n",
    "        \n",
    "        self.vocab_size  = vocab_size\n",
    "        self.hidden_size = hidden_size\n",
    "        self.attention_type = attention_type\n",
    "        #assert attention_type in [\"dot\", \"bahdanau\", \"general\"]\n",
    "            \n",
    "        if attention_type =='dot':\n",
    "            self.attention = Dotattention()\n",
    "        if attention_type == 'bahdanau':\n",
    "            self.attention = BahdanauAttention(hidden_size)\n",
    "        if attention_type == 'general':\n",
    "            self.attention = GeneralAttention(hidden_size)\n",
    "                \n",
    "        #self.attention   = GeneralAttention(hidden_size)\n",
    "        #self.attention = BahdanauAttention(hidden_size)\n",
    "        #self.attention = Dotattention()\n",
    "        self.embedding   = nn.Embedding(vocab_size, emb_size, padding_idx=pad_idx)\n",
    "        self.gru_cell    = nn.GRUCell((emb_size+hidden_size), hidden_size)\n",
    "        self.gru_cell1   = nn.GRUCell(emb_size, hidden_size)\n",
    "        self.linear_out  = nn.Linear(hidden_size, vocab_size)\n",
    "        \n",
    "    def forward(self, target, hidden, outputs, mask = None):\n",
    "        batch_size = target.size(0) \n",
    "        embedded = self.embedding(target)\n",
    "        embedded = embedded.squeeze(1)\n",
    "        \n",
    "        if self.attention_type is not None:\n",
    "            #print(outputs.size(), hidden.size())\n",
    "            _,context = self.attention(outputs, hidden, mask)\n",
    "            #print(embedded.size(), context.size())\n",
    "            x_t = torch.cat([embedded, context], dim = 1)\n",
    "            hidden = self.gru_cell(x_t, hidden)\n",
    "            pred = self.linear_out(hidden)\n",
    "        else:\n",
    "            hidden = self.gru_cell1(embedded, hidden)\n",
    "            pred = self.linear_out(hidden)\n",
    "            \n",
    "        return pred, hidden"
   ]
  },
  {
   "cell_type": "code",
   "execution_count": 10,
   "metadata": {},
   "outputs": [
    {
     "data": {
      "image/png": "[encoded data removed]",
      "text/plain": [
       "<Figure size 1440x360 with 2 Axes>"
      ]
     },
     "metadata": {},
     "output_type": "display_data"
    },
    {
     "ename": "KeyboardInterrupt",
     "evalue": "",
     "output_type": "error",
     "traceback": [
      "\u001b[0;31m---------------------------------------------------------------------------\u001b[0m",
      "\u001b[0;31mKeyboardInterrupt\u001b[0m                         Traceback (most recent call last)",
      "\u001b[0;32m<ipython-input-10-e75a60387f1d>\u001b[0m in \u001b[0;36m<module>\u001b[0;34m()\u001b[0m\n\u001b[1;32m     11\u001b[0m \u001b[0;34m\u001b[0m\u001b[0m\n\u001b[1;32m     12\u001b[0m \u001b[0mtotrain\u001b[0m \u001b[0;34m=\u001b[0m \u001b[0mTrainer\u001b[0m\u001b[0;34m(\u001b[0m\u001b[0mdataset\u001b[0m\u001b[0;34m,\u001b[0m \u001b[0mmodel\u001b[0m\u001b[0;34m,\u001b[0m \u001b[0moptimizer\u001b[0m\u001b[0;34m,\u001b[0m \u001b[0mcriterion\u001b[0m\u001b[0;34m)\u001b[0m\u001b[0;34m\u001b[0m\u001b[0m\n\u001b[0;32m---> 13\u001b[0;31m \u001b[0mtotrain\u001b[0m\u001b[0;34m.\u001b[0m\u001b[0mtrain\u001b[0m\u001b[0;34m(\u001b[0m\u001b[0mnum_epochs\u001b[0m\u001b[0;34m,\u001b[0m \u001b[0mbatch_size\u001b[0m\u001b[0;34m)\u001b[0m\u001b[0;34m\u001b[0m\u001b[0m\n\u001b[0m",
      "\u001b[0;32m~/DL/3 week seq2seq/transer.py\u001b[0m in \u001b[0;36mtrain\u001b[0;34m(self, num_epochs, batch_size)\u001b[0m\n\u001b[1;32m     55\u001b[0m                 \u001b[0mloss\u001b[0m \u001b[0;34m=\u001b[0m \u001b[0mself\u001b[0m\u001b[0;34m.\u001b[0m\u001b[0mone_step\u001b[0m\u001b[0;34m(\u001b[0m\u001b[0mbatch_size\u001b[0m\u001b[0;34m,\u001b[0m \u001b[0mval\u001b[0m\u001b[0;34m=\u001b[0m\u001b[0;32mFalse\u001b[0m\u001b[0;34m)\u001b[0m\u001b[0;34m\u001b[0m\u001b[0m\n\u001b[1;32m     56\u001b[0m                 \u001b[0mself\u001b[0m\u001b[0;34m.\u001b[0m\u001b[0moptimizer\u001b[0m\u001b[0;34m.\u001b[0m\u001b[0mzero_grad\u001b[0m\u001b[0;34m(\u001b[0m\u001b[0;34m)\u001b[0m\u001b[0;34m\u001b[0m\u001b[0m\n\u001b[0;32m---> 57\u001b[0;31m                 \u001b[0mloss\u001b[0m\u001b[0;34m.\u001b[0m\u001b[0mbackward\u001b[0m\u001b[0;34m(\u001b[0m\u001b[0;34m)\u001b[0m\u001b[0;34m\u001b[0m\u001b[0m\n\u001b[0m\u001b[1;32m     58\u001b[0m                 \u001b[0mself\u001b[0m\u001b[0;34m.\u001b[0m\u001b[0moptimizer\u001b[0m\u001b[0;34m.\u001b[0m\u001b[0mstep\u001b[0m\u001b[0;34m(\u001b[0m\u001b[0;34m)\u001b[0m\u001b[0;34m\u001b[0m\u001b[0m\n\u001b[1;32m     59\u001b[0m                 \u001b[0mself\u001b[0m\u001b[0;34m.\u001b[0m\u001b[0mtrain_losses\u001b[0m\u001b[0;34m.\u001b[0m\u001b[0mappend\u001b[0m\u001b[0;34m(\u001b[0m\u001b[0mloss\u001b[0m\u001b[0;34m.\u001b[0m\u001b[0mitem\u001b[0m\u001b[0;34m(\u001b[0m\u001b[0;34m)\u001b[0m\u001b[0;34m)\u001b[0m\u001b[0;34m\u001b[0m\u001b[0m\n",
      "\u001b[0;32m~/anaconda3/lib/python3.6/site-packages/torch/tensor.py\u001b[0m in \u001b[0;36mbackward\u001b[0;34m(self, gradient, retain_graph, create_graph)\u001b[0m\n\u001b[1;32m     91\u001b[0m                 \u001b[0mproducts\u001b[0m\u001b[0;34m.\u001b[0m \u001b[0mDefaults\u001b[0m \u001b[0mto\u001b[0m\u001b[0;31m \u001b[0m\u001b[0;31m`\u001b[0m\u001b[0;31m`\u001b[0m\u001b[0;32mFalse\u001b[0m\u001b[0;31m`\u001b[0m\u001b[0;31m`\u001b[0m\u001b[0;34m.\u001b[0m\u001b[0;34m\u001b[0m\u001b[0m\n\u001b[1;32m     92\u001b[0m         \"\"\"\n\u001b[0;32m---> 93\u001b[0;31m         \u001b[0mtorch\u001b[0m\u001b[0;34m.\u001b[0m\u001b[0mautograd\u001b[0m\u001b[0;34m.\u001b[0m\u001b[0mbackward\u001b[0m\u001b[0;34m(\u001b[0m\u001b[0mself\u001b[0m\u001b[0;34m,\u001b[0m \u001b[0mgradient\u001b[0m\u001b[0;34m,\u001b[0m \u001b[0mretain_graph\u001b[0m\u001b[0;34m,\u001b[0m \u001b[0mcreate_graph\u001b[0m\u001b[0;34m)\u001b[0m\u001b[0;34m\u001b[0m\u001b[0m\n\u001b[0m\u001b[1;32m     94\u001b[0m \u001b[0;34m\u001b[0m\u001b[0m\n\u001b[1;32m     95\u001b[0m     \u001b[0;32mdef\u001b[0m \u001b[0mregister_hook\u001b[0m\u001b[0;34m(\u001b[0m\u001b[0mself\u001b[0m\u001b[0;34m,\u001b[0m \u001b[0mhook\u001b[0m\u001b[0;34m)\u001b[0m\u001b[0;34m:\u001b[0m\u001b[0;34m\u001b[0m\u001b[0m\n",
      "\u001b[0;32m~/anaconda3/lib/python3.6/site-packages/torch/autograd/__init__.py\u001b[0m in \u001b[0;36mbackward\u001b[0;34m(tensors, grad_tensors, retain_graph, create_graph, grad_variables)\u001b[0m\n\u001b[1;32m     88\u001b[0m     Variable._execution_engine.run_backward(\n\u001b[1;32m     89\u001b[0m         \u001b[0mtensors\u001b[0m\u001b[0;34m,\u001b[0m \u001b[0mgrad_tensors\u001b[0m\u001b[0;34m,\u001b[0m \u001b[0mretain_graph\u001b[0m\u001b[0;34m,\u001b[0m \u001b[0mcreate_graph\u001b[0m\u001b[0;34m,\u001b[0m\u001b[0;34m\u001b[0m\u001b[0m\n\u001b[0;32m---> 90\u001b[0;31m         allow_unreachable=True)  # allow_unreachable flag\n\u001b[0m\u001b[1;32m     91\u001b[0m \u001b[0;34m\u001b[0m\u001b[0m\n\u001b[1;32m     92\u001b[0m \u001b[0;34m\u001b[0m\u001b[0m\n",
      "\u001b[0;31mKeyboardInterrupt\u001b[0m: "
     ]
    }
   ],
   "source": [
    "encoder = Encoder(len(words_vocab), 32, 64, pad_idx = words_vocab.pad_idx)\n",
    "decoder = Decoder(len(trans_vocab), 32, 64, pad_idx = trans_vocab.pad_idx)\n",
    "\n",
    "model   = Model(encoder, decoder, len(trans_vocab)).to(device)\n",
    "\n",
    "criterion = nn.CrossEntropyLoss()\n",
    "optimizer = optim.Adam(model.parameters())\n",
    "\n",
    "batch_size = 32\n",
    "num_epochs = 2\n",
    "\n",
    "totrain = Trainer(dataset, model, optimizer, criterion)\n",
    "totrain.train(num_epochs, batch_size)\n"
   ]
  },
  {
   "cell_type": "code",
   "execution_count": 11,
   "metadata": {},
   "outputs": [],
   "source": [
    "def _print(val):\n",
    "    batch_words, batch_trans_in, batch_trans_out, words_lens, trans_lens = dataset.get_batch(1, sort=True, val=val)\n",
    "    batch_words     = batch_words.to(device)\n",
    "    batch_trans_out = batch_trans_out.to(device)\n",
    "\n",
    "\n",
    "    inp = model.generate(words_vocab.sos_idx, words_vocab.eos_idx, batch_words)\n",
    "            \n",
    "    tokens = [trans_vocab.idx2token(idx) for idx in inp if idx not in [trans_vocab.sos_idx,\n",
    "                                                                                     trans_vocab.eos_idx,\n",
    "                                                                                     trans_vocab.pad_idx]]\n",
    "    print('Src: ', ''.join([words_vocab.idx2token(idx) for idx in batch_words[0].tolist()]))\n",
    "    print('Pred:', ''.join(tokens))\n",
    "    print('Real:', ''.join([trans_vocab.idx2token(idx) for idx in batch_trans_out[0].tolist() if idx not in [trans_vocab.sos_idx,\n",
    "                                                                            trans_vocab.eos_idx,\n",
    "                                                                            trans_vocab.pad_idx]]))"
   ]
  },
  {
   "cell_type": "code",
   "execution_count": 12,
   "metadata": {},
   "outputs": [
    {
     "name": "stdout",
     "output_type": "stream",
     "text": [
      "torch.Size([1, 1])\n"
     ]
    },
    {
     "ename": "TypeError",
     "evalue": "forward() missing 1 required positional argument: 'outputs'",
     "output_type": "error",
     "traceback": [
      "\u001b[0;31m---------------------------------------------------------------------------\u001b[0m",
      "\u001b[0;31mTypeError\u001b[0m                                 Traceback (most recent call last)",
      "\u001b[0;32m<ipython-input-12-4a9ab867d1ee>\u001b[0m in \u001b[0;36m<module>\u001b[0;34m()\u001b[0m\n\u001b[1;32m      1\u001b[0m \u001b[0;32mfor\u001b[0m \u001b[0m_\u001b[0m \u001b[0;32min\u001b[0m \u001b[0mrange\u001b[0m\u001b[0;34m(\u001b[0m\u001b[0;36m10\u001b[0m\u001b[0;34m)\u001b[0m\u001b[0;34m:\u001b[0m\u001b[0;34m\u001b[0m\u001b[0m\n\u001b[0;32m----> 2\u001b[0;31m     \u001b[0m_print\u001b[0m\u001b[0;34m(\u001b[0m\u001b[0;32mTrue\u001b[0m\u001b[0;34m)\u001b[0m\u001b[0;34m\u001b[0m\u001b[0m\n\u001b[0m\u001b[1;32m      3\u001b[0m     \u001b[0mprint\u001b[0m\u001b[0;34m(\u001b[0m\u001b[0;34m)\u001b[0m\u001b[0;34m\u001b[0m\u001b[0m\n",
      "\u001b[0;32m<ipython-input-11-2f38406c085c>\u001b[0m in \u001b[0;36m_print\u001b[0;34m(val)\u001b[0m\n\u001b[1;32m      5\u001b[0m \u001b[0;34m\u001b[0m\u001b[0m\n\u001b[1;32m      6\u001b[0m \u001b[0;34m\u001b[0m\u001b[0m\n\u001b[0;32m----> 7\u001b[0;31m     \u001b[0minp\u001b[0m \u001b[0;34m=\u001b[0m \u001b[0mmodel\u001b[0m\u001b[0;34m.\u001b[0m\u001b[0mgenerate\u001b[0m\u001b[0;34m(\u001b[0m\u001b[0mwords_vocab\u001b[0m\u001b[0;34m.\u001b[0m\u001b[0msos_idx\u001b[0m\u001b[0;34m,\u001b[0m \u001b[0mwords_vocab\u001b[0m\u001b[0;34m.\u001b[0m\u001b[0meos_idx\u001b[0m\u001b[0;34m,\u001b[0m \u001b[0mbatch_words\u001b[0m\u001b[0;34m)\u001b[0m\u001b[0;34m\u001b[0m\u001b[0m\n\u001b[0m\u001b[1;32m      8\u001b[0m \u001b[0;34m\u001b[0m\u001b[0m\n\u001b[1;32m      9\u001b[0m     tokens = [trans_vocab.idx2token(idx) for idx in inp if idx not in [trans_vocab.sos_idx,\n",
      "\u001b[0;32m<ipython-input-3-1855c11914cf>\u001b[0m in \u001b[0;36mgenerate\u001b[0;34m(self, bos_idx, eos_idx, batch_words)\u001b[0m\n\u001b[1;32m     30\u001b[0m             \u001b[0minp_tensor\u001b[0m \u001b[0;34m=\u001b[0m \u001b[0mtorch\u001b[0m\u001b[0;34m.\u001b[0m\u001b[0mLongTensor\u001b[0m\u001b[0;34m(\u001b[0m\u001b[0;34m[\u001b[0m\u001b[0;34m[\u001b[0m\u001b[0minp\u001b[0m\u001b[0;34m[\u001b[0m\u001b[0;34m-\u001b[0m\u001b[0;36m1\u001b[0m\u001b[0;34m]\u001b[0m\u001b[0;34m]\u001b[0m\u001b[0;34m]\u001b[0m\u001b[0;34m)\u001b[0m\u001b[0;34m.\u001b[0m\u001b[0mto\u001b[0m\u001b[0;34m(\u001b[0m\u001b[0mbatch_words\u001b[0m\u001b[0;34m.\u001b[0m\u001b[0mdevice\u001b[0m\u001b[0;34m)\u001b[0m\u001b[0;34m\u001b[0m\u001b[0m\n\u001b[1;32m     31\u001b[0m             \u001b[0mprint\u001b[0m\u001b[0;34m(\u001b[0m\u001b[0minp_tensor\u001b[0m\u001b[0;34m.\u001b[0m\u001b[0msize\u001b[0m\u001b[0;34m(\u001b[0m\u001b[0;34m)\u001b[0m\u001b[0;34m)\u001b[0m\u001b[0;34m\u001b[0m\u001b[0m\n\u001b[0;32m---> 32\u001b[0;31m             \u001b[0mpred\u001b[0m\u001b[0;34m,\u001b[0m \u001b[0mhidden\u001b[0m   \u001b[0;34m=\u001b[0m \u001b[0mself\u001b[0m\u001b[0;34m.\u001b[0m\u001b[0mdecoder\u001b[0m\u001b[0;34m(\u001b[0m\u001b[0minp_tensor\u001b[0m\u001b[0;34m,\u001b[0m \u001b[0mhidden\u001b[0m\u001b[0;34m)\u001b[0m\u001b[0;34m\u001b[0m\u001b[0m\n\u001b[0m\u001b[1;32m     33\u001b[0m             \u001b[0mnext_token\u001b[0m \u001b[0;34m=\u001b[0m \u001b[0mpred\u001b[0m\u001b[0;34m[\u001b[0m\u001b[0;34m-\u001b[0m\u001b[0;36m1\u001b[0m\u001b[0;34m]\u001b[0m\u001b[0;34m.\u001b[0m\u001b[0mtopk\u001b[0m\u001b[0;34m(\u001b[0m\u001b[0;36m1\u001b[0m\u001b[0;34m)\u001b[0m\u001b[0;34m[\u001b[0m\u001b[0;36m1\u001b[0m\u001b[0;34m]\u001b[0m\u001b[0;34m.\u001b[0m\u001b[0mitem\u001b[0m\u001b[0;34m(\u001b[0m\u001b[0;34m)\u001b[0m\u001b[0;34m\u001b[0m\u001b[0m\n\u001b[1;32m     34\u001b[0m             \u001b[0minp\u001b[0m\u001b[0;34m.\u001b[0m\u001b[0mappend\u001b[0m\u001b[0;34m(\u001b[0m\u001b[0mnext_token\u001b[0m\u001b[0;34m)\u001b[0m\u001b[0;34m\u001b[0m\u001b[0m\n",
      "\u001b[0;32m~/anaconda3/lib/python3.6/site-packages/torch/nn/modules/module.py\u001b[0m in \u001b[0;36m__call__\u001b[0;34m(self, *input, **kwargs)\u001b[0m\n\u001b[1;32m    475\u001b[0m             \u001b[0mresult\u001b[0m \u001b[0;34m=\u001b[0m \u001b[0mself\u001b[0m\u001b[0;34m.\u001b[0m\u001b[0m_slow_forward\u001b[0m\u001b[0;34m(\u001b[0m\u001b[0;34m*\u001b[0m\u001b[0minput\u001b[0m\u001b[0;34m,\u001b[0m \u001b[0;34m**\u001b[0m\u001b[0mkwargs\u001b[0m\u001b[0;34m)\u001b[0m\u001b[0;34m\u001b[0m\u001b[0m\n\u001b[1;32m    476\u001b[0m         \u001b[0;32melse\u001b[0m\u001b[0;34m:\u001b[0m\u001b[0;34m\u001b[0m\u001b[0m\n\u001b[0;32m--> 477\u001b[0;31m             \u001b[0mresult\u001b[0m \u001b[0;34m=\u001b[0m \u001b[0mself\u001b[0m\u001b[0;34m.\u001b[0m\u001b[0mforward\u001b[0m\u001b[0;34m(\u001b[0m\u001b[0;34m*\u001b[0m\u001b[0minput\u001b[0m\u001b[0;34m,\u001b[0m \u001b[0;34m**\u001b[0m\u001b[0mkwargs\u001b[0m\u001b[0;34m)\u001b[0m\u001b[0;34m\u001b[0m\u001b[0m\n\u001b[0m\u001b[1;32m    478\u001b[0m         \u001b[0;32mfor\u001b[0m \u001b[0mhook\u001b[0m \u001b[0;32min\u001b[0m \u001b[0mself\u001b[0m\u001b[0;34m.\u001b[0m\u001b[0m_forward_hooks\u001b[0m\u001b[0;34m.\u001b[0m\u001b[0mvalues\u001b[0m\u001b[0;34m(\u001b[0m\u001b[0;34m)\u001b[0m\u001b[0;34m:\u001b[0m\u001b[0;34m\u001b[0m\u001b[0m\n\u001b[1;32m    479\u001b[0m             \u001b[0mhook_result\u001b[0m \u001b[0;34m=\u001b[0m \u001b[0mhook\u001b[0m\u001b[0;34m(\u001b[0m\u001b[0mself\u001b[0m\u001b[0;34m,\u001b[0m \u001b[0minput\u001b[0m\u001b[0;34m,\u001b[0m \u001b[0mresult\u001b[0m\u001b[0;34m)\u001b[0m\u001b[0;34m\u001b[0m\u001b[0m\n",
      "\u001b[0;31mTypeError\u001b[0m: forward() missing 1 required positional argument: 'outputs'"
     ]
    }
   ],
   "source": [
    "for _ in range(10):\n",
    "    _print(True)\n",
    "    print()"
   ]
  },
  {
   "cell_type": "code",
   "execution_count": null,
   "metadata": {},
   "outputs": [],
   "source": []
  }
 ],
 "metadata": {
  "kernelspec": {
   "display_name": "Python 3",
   "language": "python",
   "name": "python3"
  },
  "language_info": {
   "codemirror_mode": {
    "name": "ipython",
    "version": 3
   },
   "file_extension": ".py",
   "mimetype": "text/x-python",
   "name": "python",
   "nbconvert_exporter": "python",
   "pygments_lexer": "ipython3",
   "version": "3.6.5"
  }
 },
 "nbformat": 4,
 "nbformat_minor": 2
}
