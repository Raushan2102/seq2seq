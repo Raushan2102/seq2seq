{
 "cells": [
  {
   "cell_type": "code",
   "execution_count": 1,
   "metadata": {},
   "outputs": [],
   "source": [
    "import math\n",
    "import random\n",
    "\n",
    "import numpy as np\n",
    "\n",
    "import torch\n",
    "import torch.nn as nn\n",
    "import torch.optim as optim\n",
    "import torch.nn.functional as F\n",
    "import editdistance\n",
    "from transer import Dataset\n",
    "from transer import Trainer\n",
    "from IPython.display import clear_output\n",
    "import matplotlib.pyplot as plt\n",
    "from torch.nn.utils.rnn import pack_padded_sequence as pack\n",
    "from torch.nn.utils.rnn import pad_packed_sequence as unpack\n",
    "device = torch.device('cuda' if torch.cuda.is_available() else 'cpu')"
   ]
  },
  {
   "cell_type": "code",
   "execution_count": 2,
   "metadata": {},
   "outputs": [],
   "source": [
    "dataset = Dataset('train.csv')\n",
    "words_vocab = dataset.words_vocab\n",
    "trans_vocab = dataset.trans_vocab"
   ]
  },
  {
   "cell_type": "code",
   "execution_count": 3,
   "metadata": {},
   "outputs": [],
   "source": [
    "class GeneralAttention(nn.Module):\n",
    "    def __init__(self, hidden_size):\n",
    "        super(GeneralAttention, self).__init__()\n",
    "        \n",
    "        self.linear1 = nn.Linear(hidden_size, hidden_size, bias = False)\n",
    "        \n",
    "    def forward(self, query, context, mask = None):\n",
    "        '''\n",
    "        Inputs:\n",
    "            query:   (batch x dec_seq_len x hidden) - outputs of decoder\n",
    "            context: (batch x enc_sec_len x hidden) - outputs of encoder\n",
    "            mask:    (batch x enc_seq_len)\n",
    "        Outputs:\n",
    "            weights: (batch x dec_seq_len x enc_sec_len)\n",
    "            outputs: (batch x dec_sec_len x hidden)\n",
    "        '''\n",
    "        context = self.linear1(context)\n",
    "        logits  = torch.matmul(query, context.transpose(1,2)) #batch x dec_sec_len x enc_sec_len\n",
    "        if mask is not None:\n",
    "            mask    = mask.unsqueeze(1)                       #batch x 1 x enc_sec_len\n",
    "            logits.masked_fill_(1-mask , -float('inf'))       #batch x dec_sec_len x enc_sec_len\n",
    "        #print(logits.size()) \n",
    "        weights = F.softmax(logits, dim = 2)                  #batch x dec_sec_len x enc_sec_len\n",
    "        outputs = torch.matmul(weights, context)              #batch x dec_sec_len x hidden  \n",
    "        \n",
    "        return weights, outputs"
   ]
  },
  {
   "cell_type": "code",
   "execution_count": 4,
   "metadata": {},
   "outputs": [],
   "source": [
    "class BahdanauAttention(nn.Module):\n",
    "    def __init__(self, hidden_size):\n",
    "        super(BahdanauAttention, self).__init__()\n",
    "        self.linear1 = nn.Linear(2*hidden_size, hidden_size, bias = False)\n",
    "        self.linear2 = nn.Linear(hidden_size,1, bias = False)\n",
    "        \n",
    "    def forward(self, query, context, mask = None):\n",
    "        '''\n",
    "        Inputs:\n",
    "            query:   (batch x dec_seq_len x hidden) - outputs of decoder\n",
    "            context: (batch x enc_sec_len x hidden) - outputs of encoder\n",
    "            mask:    (batch x enc_seq_len)\n",
    "        Outputs:\n",
    "            weights: (batch x dec_seq_len x enc_sec_len)\n",
    "            outputs: (batch x dec_sec_len x hidden)\n",
    "        '''\n",
    "        dec_sec_len  = query.size(1)\n",
    "        enc_sec_len  = context.size(1)\n",
    "        context1     = context\n",
    "        query        = query.unsqueeze(2)                  #batch x dec_sec_len x 1 x hidden\n",
    "        context      = context.unsqueeze(1)                #batch x 1 x enc_sec_len x hidden\n",
    "        x            = query.repeat(1,1,enc_sec_len,1)     #batch x dec_sec_len x enc_sec_len x hidden\n",
    "        y            = context.repeat(1,dec_sec_len,1,1)   #batch x dec_sec_len x enc_sec_len x hidden\n",
    "        concat       = torch.cat([x,y], dim = -1)          #batch x dec_sec_len x enc_sec_len x 2*hidden\n",
    "        a            = self.linear1(concat)                #batch x dec_sec_len x enc_sec_len x hidden   \n",
    "        a            = F.tanh(a)\n",
    "        weights      = self.linear2(a)                     #batch x dec_sec_len x enc_sec_len x 1\n",
    "        weights      = weights.squeeze(-1)                 #batch x dec_sec_len x enc_sec_len\n",
    "        if mask is not None:\n",
    "            mask     = mask.unsqueeze(1)                   #batch x 1 x enc_sec_len\n",
    "            weights.masked_fill_(1-mask, -float('inf'))    #batch x dec_sec_len x enc_sec_len\n",
    "        weights      = F.softmax(weights, dim = 2)         #batch x dec_sec_len x enc_sec_len\n",
    "        outputs      = torch.matmul(weights, context1)     #batch x dec_sec_len x hidden        \n",
    "        return weights, outputs"
   ]
  },
  {
   "cell_type": "code",
   "execution_count": 5,
   "metadata": {},
   "outputs": [
    {
     "name": "stdout",
     "output_type": "stream",
     "text": [
      "torch.Size([64, 15, 28]) torch.Size([64, 15, 32])\n"
     ]
    },
    {
     "name": "stderr",
     "output_type": "stream",
     "text": [
      "/home/raushan/anaconda3/lib/python3.6/site-packages/torch/nn/functional.py:995: UserWarning: nn.functional.tanh is deprecated. Use torch.tanh instead.\n",
      "  warnings.warn(\"nn.functional.tanh is deprecated. Use torch.tanh instead.\")\n"
     ]
    }
   ],
   "source": [
    "attention = BahdanauAttention(32)\n",
    "query   = torch.rand(64,15,32)\n",
    "context = torch.rand(64,28,32)\n",
    "mask    = torch.zeros(64,28).type(torch.ByteTensor)\n",
    "\n",
    "weights, outputs = attention(query, context, mask)\n",
    "print(weights.size(), outputs.size())"
   ]
  },
  {
   "cell_type": "code",
   "execution_count": 6,
   "metadata": {},
   "outputs": [],
   "source": [
    "class Dotattention(nn.Module):\n",
    "    def __init__(self):\n",
    "        super(Dotattention, self).__init__()\n",
    "        \n",
    "    def forward(self, query, context, mask = None):\n",
    "        '''\n",
    "        Inputs:\n",
    "            query:   (batch x dec_seq_len x hidden) - outputs of decoder\n",
    "            context: (batch x enc_sec_len x hidden) - outputs of encoder\n",
    "            mask:    (batch x enc_seq_len)\n",
    "        Outputs:\n",
    "            weights: (batch x dec_seq_len x enc_sec_len)\n",
    "            outputs: (batch x dec_sec_len x hidden)\n",
    "        '''\n",
    "        \n",
    "        logits  = torch.matmul(query, context.transpose(1,2)) #batch x dec_sec_len x enc_sec_len\n",
    "     \n",
    "        if mask is not None:\n",
    "            mask    = mask.unsqueeze(1)                       #batch x 1 x enc_sec_len\n",
    "            logits.masked_fill_(1-mask , -float('inf'))       #batch x dec_sec_len x enc_sec_len\n",
    "        #print(logits.size()) \n",
    "        weights = F.softmax(logits, dim = 2)                  #batch x dec_sec_len x enc_sec_len\n",
    "        outputs = torch.matmul(weights, context)              #batch x dec_sec_len x hidden  \n",
    "        \n",
    "        return weights, outputs"
   ]
  },
  {
   "cell_type": "code",
   "execution_count": 7,
   "metadata": {},
   "outputs": [],
   "source": [
    "attention = BahdanauAttention(32)"
   ]
  },
  {
   "cell_type": "code",
   "execution_count": 8,
   "metadata": {},
   "outputs": [
    {
     "name": "stdout",
     "output_type": "stream",
     "text": [
      "torch.Size([64, 15, 28]) torch.Size([64, 15, 32])\n"
     ]
    },
    {
     "name": "stderr",
     "output_type": "stream",
     "text": [
      "/home/raushan/anaconda3/lib/python3.6/site-packages/torch/nn/functional.py:995: UserWarning: nn.functional.tanh is deprecated. Use torch.tanh instead.\n",
      "  warnings.warn(\"nn.functional.tanh is deprecated. Use torch.tanh instead.\")\n"
     ]
    }
   ],
   "source": [
    "query   = torch.rand(64,15,32)\n",
    "context = torch.rand(64,28,32)\n",
    "mask    = torch.ones(64,28).type(torch.ByteTensor)\n",
    "\n",
    "weights, outputs = attention(query, context, mask)\n",
    "print(weights.size(), outputs.size())"
   ]
  },
  {
   "cell_type": "code",
   "execution_count": 9,
   "metadata": {},
   "outputs": [],
   "source": [
    "class Encoder(nn.Module):\n",
    "    def __init__(self, vocab_size, emb_size, hidden_size, pad_idx):\n",
    "        super(Encoder, self).__init__()\n",
    "        \n",
    "        self.embedding = nn.Embedding(vocab_size, emb_size, padding_idx=pad_idx)\n",
    "        self.gru       = nn.GRU(emb_size, hidden_size, batch_first = True)\n",
    "    \n",
    "    def forward(self, source, source_lens=None):\n",
    "        embedded = self.embedding(source)\n",
    "        \n",
    "        if source_lens is not None:\n",
    "            embedded = pack(embedded, source_lens, batch_first = True)\n",
    "  \n",
    "        outs, hidden = self.gru(embedded)\n",
    "    \n",
    "        if source_lens is not None:\n",
    "            outs,_ = unpack(outs, batch_first = True)\n",
    "        \n",
    "        return outs, hidden"
   ]
  },
  {
   "cell_type": "code",
   "execution_count": 13,
   "metadata": {},
   "outputs": [],
   "source": [
    "class Decoder(nn.Module):\n",
    "    def __init__(self, vocab_size, emb_size, hidden_size, pad_idx, attention_type = None):\n",
    "        super(Decoder, self).__init__()\n",
    "        \n",
    "        self.vocab_size  = vocab_size\n",
    "        self.hidden_size = hidden_size\n",
    "        self.attention_type = attention_type\n",
    "        \n",
    "        self.embedding  = nn.Embedding(vocab_size, emb_size, padding_idx=pad_idx)\n",
    "        self.gru        = nn.GRU(emb_size, hidden_size, batch_first=True)\n",
    "        self.linear_out = nn.Linear(hidden_size, vocab_size)\n",
    "        self.linear     = nn.Linear(2*hidden_size, hidden_size, bias = False)\n",
    "        \n",
    "        #self.attention  = GeneralAttention(hidden_size)\n",
    "        self.attention   = BahdanauAttention(hidden_size)\n",
    "        \n",
    "    def forward(self, batch_trans_in, encoder_outputs, mask = None):\n",
    "        embedded         = self.embedding(batch_trans_in)\n",
    "        outs, hidden     = self.gru(embedded)\n",
    "        #print(\"decoder outputs size\", outs.size())\n",
    "        #print(\"encoder outputs size\", encoder_outputs.size())\n",
    "        weights, outputs = self.attention(outs, encoder_outputs)\n",
    "        concatenated     = torch.cat([outs, outputs], dim = -1) \n",
    "        \n",
    "        x                = self.linear(concatenated)\n",
    "        x                = F.tanh(x)\n",
    "        pred             = self.linear_out(x)\n",
    "        #view?\n",
    "        return pred, hidden"
   ]
  },
  {
   "cell_type": "code",
   "execution_count": 11,
   "metadata": {},
   "outputs": [],
   "source": [
    "class Model(nn.Module):\n",
    "    def __init__(self, encoder, decoder, trans_vocab_len):\n",
    "        super(Model, self).__init__()\n",
    "        \n",
    "        self.encoder = encoder\n",
    "        self.decoder = decoder\n",
    "        self.trans_vocab_len = trans_vocab_len\n",
    "        #logits = []\n",
    "        \n",
    "    def forward(self, batch_words, words_lens, batch_trans_in, mask_attention = None):\n",
    "        outputs, hidden = self.encoder(batch_words, words_lens)\n",
    "        if mask_attention is None:\n",
    "            logits, hidden   = self.decoder(batch_trans_in, outputs)\n",
    "        else:\n",
    "            logits, hidden    = self.decoder(batch_trans_in, outputs, mask_attention)\n",
    "            \n",
    "        #logits = torch.stack(logits, 1)\n",
    "        #print('logits size before view', logits.size())\n",
    "        logits = logits.view(-1, self.trans_vocab_len) \n",
    "        return logits\n",
    "    \n",
    "    def generate(self, bos_idx, eos_idx, batch_words):\n",
    "        inp = [bos_idx]\n",
    "        _, hidden = self.encoder(batch_words)\n",
    "\n",
    "        for _ in range(100):\n",
    "            inp_tensor = torch.LongTensor([[inp[-1]]]).to(batch_words.device)\n",
    "            pred, hidden   = self.decoder(inp_tensor, hidden)\n",
    "            next_token = pred[-1].topk(1)[1].item()\n",
    "            inp.append(next_token)\n",
    "            if next_token == eos_idx:\n",
    "                break\n",
    "        return inp   "
   ]
  },
  {
   "cell_type": "code",
   "execution_count": 12,
   "metadata": {},
   "outputs": [
    {
     "data": {
      "image/png": "[encoded data removed]",
      "text/plain": [
       "<Figure size 1440x360 with 2 Axes>"
      ]
     },
     "metadata": {},
     "output_type": "display_data"
    },
    {
     "name": "stdout",
     "output_type": "stream",
     "text": [
      "decoder outputs size torch.Size([10, 10, 64])\n",
      "encoder outputs size torch.Size([10, 12, 64])\n",
      "decoder outputs size torch.Size([10, 11, 64])\n",
      "encoder outputs size torch.Size([10, 12, 64])\n",
      "decoder outputs size torch.Size([10, 14, 64])\n",
      "encoder outputs size torch.Size([10, 15, 64])\n",
      "decoder outputs size torch.Size([10, 10, 64])\n",
      "encoder outputs size torch.Size([10, 10, 64])\n",
      "decoder outputs size torch.Size([10, 10, 64])\n",
      "encoder outputs size torch.Size([10, 9, 64])\n",
      "decoder outputs size torch.Size([10, 10, 64])\n",
      "encoder outputs size torch.Size([10, 11, 64])\n",
      "decoder outputs size torch.Size([10, 17, 64])\n",
      "encoder outputs size torch.Size([10, 18, 64])\n",
      "decoder outputs size torch.Size([10, 9, 64])\n",
      "encoder outputs size torch.Size([10, 10, 64])\n",
      "decoder outputs size torch.Size([10, 15, 64])\n",
      "encoder outputs size torch.Size([10, 17, 64])\n",
      "decoder outputs size torch.Size([10, 10, 64])\n",
      "encoder outputs size torch.Size([10, 10, 64])\n",
      "decoder outputs size torch.Size([10, 9, 64])\n",
      "encoder outputs size torch.Size([10, 12, 64])\n",
      "decoder outputs size torch.Size([10, 10, 64])\n",
      "encoder outputs size torch.Size([10, 10, 64])\n",
      "decoder outputs size torch.Size([10, 9, 64])\n",
      "encoder outputs size torch.Size([10, 10, 64])\n",
      "decoder outputs size torch.Size([10, 11, 64])\n",
      "encoder outputs size torch.Size([10, 11, 64])\n",
      "decoder outputs size torch.Size([10, 10, 64])\n",
      "encoder outputs size torch.Size([10, 11, 64])\n",
      "decoder outputs size torch.Size([10, 10, 64])\n",
      "encoder outputs size torch.Size([10, 12, 64])\n",
      "decoder outputs size torch.Size([10, 8, 64])\n",
      "encoder outputs size torch.Size([10, 8, 64])\n",
      "decoder outputs size torch.Size([10, 11, 64])\n",
      "encoder outputs size torch.Size([10, 12, 64])\n",
      "decoder outputs size torch.Size([10, 10, 64])\n",
      "encoder outputs size torch.Size([10, 10, 64])\n",
      "decoder outputs size torch.Size([10, 9, 64])\n",
      "encoder outputs size torch.Size([10, 11, 64])\n",
      "decoder outputs size torch.Size([10, 8, 64])\n",
      "encoder outputs size torch.Size([10, 11, 64])\n",
      "decoder outputs size torch.Size([10, 10, 64])\n",
      "encoder outputs size torch.Size([10, 14, 64])\n",
      "decoder outputs size torch.Size([10, 10, 64])\n",
      "encoder outputs size torch.Size([10, 11, 64])\n",
      "decoder outputs size torch.Size([10, 9, 64])\n",
      "encoder outputs size torch.Size([10, 9, 64])\n",
      "decoder outputs size torch.Size([10, 9, 64])\n",
      "encoder outputs size torch.Size([10, 10, 64])\n",
      "decoder outputs size torch.Size([10, 10, 64])\n",
      "encoder outputs size torch.Size([10, 10, 64])\n",
      "decoder outputs size torch.Size([10, 10, 64])\n",
      "encoder outputs size torch.Size([10, 12, 64])\n"
     ]
    },
    {
     "ename": "KeyboardInterrupt",
     "evalue": "",
     "output_type": "error",
     "traceback": [
      "\u001b[0;31m---------------------------------------------------------------------------\u001b[0m",
      "\u001b[0;31mKeyboardInterrupt\u001b[0m                         Traceback (most recent call last)",
      "\u001b[0;32m<ipython-input-12-2b63eb7c06fc>\u001b[0m in \u001b[0;36m<module>\u001b[0;34m()\u001b[0m\n\u001b[1;32m     10\u001b[0m \u001b[0mnum_epochs\u001b[0m \u001b[0;34m=\u001b[0m \u001b[0;36m3\u001b[0m\u001b[0;34m\u001b[0m\u001b[0m\n\u001b[1;32m     11\u001b[0m \u001b[0mtotrain\u001b[0m \u001b[0;34m=\u001b[0m \u001b[0mTrainer\u001b[0m\u001b[0;34m(\u001b[0m\u001b[0mdataset\u001b[0m\u001b[0;34m,\u001b[0m \u001b[0mmodel\u001b[0m\u001b[0;34m,\u001b[0m \u001b[0moptimizer\u001b[0m\u001b[0;34m,\u001b[0m \u001b[0mcriterion\u001b[0m\u001b[0;34m)\u001b[0m\u001b[0;34m\u001b[0m\u001b[0m\n\u001b[0;32m---> 12\u001b[0;31m \u001b[0mtotrain\u001b[0m\u001b[0;34m.\u001b[0m\u001b[0mtrain\u001b[0m\u001b[0;34m(\u001b[0m\u001b[0mnum_epochs\u001b[0m\u001b[0;34m,\u001b[0m \u001b[0mbatch_size\u001b[0m\u001b[0;34m)\u001b[0m\u001b[0;34m\u001b[0m\u001b[0m\n\u001b[0m",
      "\u001b[0;32m~/DL/3 week seq2seq/transer.py\u001b[0m in \u001b[0;36mtrain\u001b[0;34m(self, num_epochs, batch_size)\u001b[0m\n\u001b[1;32m     56\u001b[0m                 \u001b[0mself\u001b[0m\u001b[0;34m.\u001b[0m\u001b[0moptimizer\u001b[0m\u001b[0;34m.\u001b[0m\u001b[0mzero_grad\u001b[0m\u001b[0;34m(\u001b[0m\u001b[0;34m)\u001b[0m\u001b[0;34m\u001b[0m\u001b[0m\n\u001b[1;32m     57\u001b[0m                 \u001b[0mloss\u001b[0m\u001b[0;34m.\u001b[0m\u001b[0mbackward\u001b[0m\u001b[0;34m(\u001b[0m\u001b[0;34m)\u001b[0m\u001b[0;34m\u001b[0m\u001b[0m\n\u001b[0;32m---> 58\u001b[0;31m                 \u001b[0mself\u001b[0m\u001b[0;34m.\u001b[0m\u001b[0moptimizer\u001b[0m\u001b[0;34m.\u001b[0m\u001b[0mstep\u001b[0m\u001b[0;34m(\u001b[0m\u001b[0;34m)\u001b[0m\u001b[0;34m\u001b[0m\u001b[0m\n\u001b[0m\u001b[1;32m     59\u001b[0m                 \u001b[0mself\u001b[0m\u001b[0;34m.\u001b[0m\u001b[0mtrain_losses\u001b[0m\u001b[0;34m.\u001b[0m\u001b[0mappend\u001b[0m\u001b[0;34m(\u001b[0m\u001b[0mloss\u001b[0m\u001b[0;34m.\u001b[0m\u001b[0mitem\u001b[0m\u001b[0;34m(\u001b[0m\u001b[0;34m)\u001b[0m\u001b[0;34m)\u001b[0m\u001b[0;34m\u001b[0m\u001b[0m\n\u001b[1;32m     60\u001b[0m \u001b[0;34m\u001b[0m\u001b[0m\n",
      "\u001b[0;32m~/anaconda3/lib/python3.6/site-packages/torch/optim/adam.py\u001b[0m in \u001b[0;36mstep\u001b[0;34m(self, closure)\u001b[0m\n\u001b[1;32m     98\u001b[0m                     \u001b[0mdenom\u001b[0m \u001b[0;34m=\u001b[0m \u001b[0mmax_exp_avg_sq\u001b[0m\u001b[0;34m.\u001b[0m\u001b[0msqrt\u001b[0m\u001b[0;34m(\u001b[0m\u001b[0;34m)\u001b[0m\u001b[0;34m.\u001b[0m\u001b[0madd_\u001b[0m\u001b[0;34m(\u001b[0m\u001b[0mgroup\u001b[0m\u001b[0;34m[\u001b[0m\u001b[0;34m'eps'\u001b[0m\u001b[0;34m]\u001b[0m\u001b[0;34m)\u001b[0m\u001b[0;34m\u001b[0m\u001b[0m\n\u001b[1;32m     99\u001b[0m                 \u001b[0;32melse\u001b[0m\u001b[0;34m:\u001b[0m\u001b[0;34m\u001b[0m\u001b[0m\n\u001b[0;32m--> 100\u001b[0;31m                     \u001b[0mdenom\u001b[0m \u001b[0;34m=\u001b[0m \u001b[0mexp_avg_sq\u001b[0m\u001b[0;34m.\u001b[0m\u001b[0msqrt\u001b[0m\u001b[0;34m(\u001b[0m\u001b[0;34m)\u001b[0m\u001b[0;34m.\u001b[0m\u001b[0madd_\u001b[0m\u001b[0;34m(\u001b[0m\u001b[0mgroup\u001b[0m\u001b[0;34m[\u001b[0m\u001b[0;34m'eps'\u001b[0m\u001b[0;34m]\u001b[0m\u001b[0;34m)\u001b[0m\u001b[0;34m\u001b[0m\u001b[0m\n\u001b[0m\u001b[1;32m    101\u001b[0m \u001b[0;34m\u001b[0m\u001b[0m\n\u001b[1;32m    102\u001b[0m                 \u001b[0mbias_correction1\u001b[0m \u001b[0;34m=\u001b[0m \u001b[0;36m1\u001b[0m \u001b[0;34m-\u001b[0m \u001b[0mbeta1\u001b[0m \u001b[0;34m**\u001b[0m \u001b[0mstate\u001b[0m\u001b[0;34m[\u001b[0m\u001b[0;34m'step'\u001b[0m\u001b[0;34m]\u001b[0m\u001b[0;34m\u001b[0m\u001b[0m\n",
      "\u001b[0;31mKeyboardInterrupt\u001b[0m: "
     ]
    }
   ],
   "source": [
    "decoder = Decoder(len(trans_vocab), 32, 64, pad_idx = words_vocab.pad_idx)\n",
    "encoder = Encoder(len(words_vocab), 32, 64, pad_idx = trans_vocab.pad_idx)\n",
    "\n",
    "\n",
    "model   = Model(encoder, decoder, len(trans_vocab)).to(device)\n",
    "criterion = nn.CrossEntropyLoss()\n",
    "optimizer = optim.Adam(model.parameters())\n",
    "\n",
    "batch_size = 10\n",
    "num_epochs = 3\n",
    "totrain = Trainer(dataset, model, optimizer, criterion)\n",
    "totrain.train(num_epochs, batch_size)"
   ]
  },
  {
   "cell_type": "code",
   "execution_count": null,
   "metadata": {},
   "outputs": [],
   "source": [
    "def _print(val):\n",
    "    batch_words, batch_trans_in, batch_trans_out, words_lens, trans_lens = dataset.get_batch(1, sort=True, val=True)\n",
    "    batch_words     = batch_words.to(device)\n",
    "    words_lens      = words_lens.to(device)\n",
    "    batch_trans_out = batch_trans_out.to(device)\n",
    "    mask_attention  = batch_words != dataset.words_vocab.pad_idx\n",
    "\n",
    "    inp = model.generate(dataset.words_vocab.sos_idx, dataset.words_vocab.eos_idx, batch_words, words_lens, mask_attention)\n",
    "\n",
    "    tokens = [dataset.trans_vocab.idx2token(idx) for idx in inp if idx not in [dataset.trans_vocab.sos_idx,\n",
    "                                                                       dataset.trans_vocab.eos_idx,\n",
    "                                                                       dataset.trans_vocab.pad_idx]]\n",
    "    print('Src: ', ''.join([dataset.words_vocab.idx2token(idx) for idx in batch_words[0].tolist()]))\n",
    "    print('Pred:', ''.join(tokens))\n",
    "    print('Real:', ''.join([dataset.trans_vocab.idx2token(idx) for idx in batch_trans_out[0].tolist() if idx not in [dataset.trans_vocab.sos_idx,\n",
    "                                                                            dataset.trans_vocab.eos_idx,\n",
    "                                                                            dataset.trans_vocab.pad_idx]]))"
   ]
  },
  {
   "cell_type": "code",
   "execution_count": null,
   "metadata": {},
   "outputs": [],
   "source": [
    "for _ in range(10):\n",
    "    _print(True)\n",
    "    print()"
   ]
  },
  {
   "cell_type": "code",
   "execution_count": null,
   "metadata": {},
   "outputs": [],
   "source": []
  }
 ],
 "metadata": {
  "kernelspec": {
   "display_name": "Python 3",
   "language": "python",
   "name": "python3"
  },
  "language_info": {
   "codemirror_mode": {
    "name": "ipython",
    "version": 3
   },
   "file_extension": ".py",
   "mimetype": "text/x-python",
   "name": "python",
   "nbconvert_exporter": "python",
   "pygments_lexer": "ipython3",
   "version": "3.6.5"
  }
 },
 "nbformat": 4,
 "nbformat_minor": 2
}
